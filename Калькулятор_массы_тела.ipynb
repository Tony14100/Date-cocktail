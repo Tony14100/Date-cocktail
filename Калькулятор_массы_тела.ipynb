{
  "cells": [
    {
      "cell_type": "markdown",
      "metadata": {
        "id": "view-in-github",
        "colab_type": "text"
      },
      "source": [
        "<a href=\"https://colab.research.google.com/github/Tony14100/Date-cocktail/blob/main/%D0%9A%D0%B0%D0%BB%D1%8C%D0%BA%D1%83%D0%BB%D1%8F%D1%82%D0%BE%D1%80_%D0%BC%D0%B0%D1%81%D1%81%D1%8B_%D1%82%D0%B5%D0%BB%D0%B0.ipynb\" target=\"_parent\"><img src=\"https://colab.research.google.com/assets/colab-badge.svg\" alt=\"Open In Colab\"/></a>"
      ]
    },
    {
      "cell_type": "code",
      "execution_count": null,
      "metadata": {
        "id": "YjfO0cZUVxyV",
        "colab": {
          "base_uri": "https://localhost:8080/"
        },
        "outputId": "b324c1b4-8760-40c7-a779-7f73b75f04e1"
      },
      "outputs": [
        {
          "output_type": "stream",
          "name": "stdout",
          "text": [
            "Ваше имя?\n",
            "Анна\n",
            "Привет,  Анна !\n",
            "Сколько Вам полных лет? 30\n",
            "Ваш рост? 1.54\n",
            "Ваш вес? 49\n",
            "Ваш индекс массы тела:  20.66\n",
            "Вы относитесь к группе людей с нормальной массой тела.\n"
          ]
        }
      ],
      "source": [
        "print(\"Ваше имя?\")\n",
        "\n",
        "name = input()\n",
        "\n",
        "print(\"Привет, \", name, \"!\")\n",
        "\n",
        "age = int(input(\"Сколько Вам полных лет? \"))\n",
        "\n",
        "height = float(input(\"Ваш рост? \"))\n",
        "\n",
        "weight = float(input(\"Ваш вес? \"))\n",
        "\n",
        "if age < 10 or height <= 0 or height > 3 or weight <= 0 or weight > 500:\n",
        "    \n",
        "    print(\"Ошибочные входные данные\")\n",
        "\n",
        "else:\n",
        "    bmi = weight / height ** 2  \n",
        "\n",
        "    bmi = round(bmi, 2)\n",
        "\n",
        "    print(\"Ваш индекс массы тела: \", str(bmi))\n",
        "    \n",
        "    if bmi < 18.5:\n",
        "\n",
        "       description = \"недостаточной массой тела.\"  \n",
        "          \n",
        "    elif bmi < 25:\n",
        "\n",
        "        description = \"нормальной массой тела.\"  \n",
        "          \n",
        "    elif bmi < 30:\n",
        "\n",
        "        description = \"избыточной массой тела.\"  \n",
        "\n",
        "    else:     \n",
        "     \n",
        "        description = \"ожирением.\"\n",
        "   \n",
        "    print(\"Вы относитесь к группе людей с\", description)"
      ]
    },
    {
      "cell_type": "code",
      "source": [],
      "metadata": {
        "id": "weeIpTY_vUNc"
      },
      "execution_count": null,
      "outputs": []
    },
    {
      "cell_type": "code",
      "source": [],
      "metadata": {
        "id": "aqVEYFsuvUXo"
      },
      "execution_count": null,
      "outputs": []
    },
    {
      "cell_type": "code",
      "source": [],
      "metadata": {
        "id": "2EBqbzZ2vUbD"
      },
      "execution_count": null,
      "outputs": []
    },
    {
      "cell_type": "code",
      "source": [],
      "metadata": {
        "id": "abY_2hiuvUeQ"
      },
      "execution_count": null,
      "outputs": []
    },
    {
      "cell_type": "code",
      "source": [],
      "metadata": {
        "id": "2Nlk43ISvUh4"
      },
      "execution_count": null,
      "outputs": []
    },
    {
      "cell_type": "code",
      "source": [],
      "metadata": {
        "id": "O65iGd-0vUj5"
      },
      "execution_count": null,
      "outputs": []
    },
    {
      "cell_type": "code",
      "execution_count": null,
      "metadata": {
        "id": "GuMHMy6mVx0u"
      },
      "outputs": [],
      "source": []
    }
  ],
  "metadata": {
    "colab": {
      "provenance": [],
      "authorship_tag": "ABX9TyNVbyk6ZhaUBMaSbp3FuhXY",
      "include_colab_link": true
    },
    "kernelspec": {
      "display_name": "Python 3",
      "name": "python3"
    },
    "language_info": {
      "name": "python"
    }
  },
  "nbformat": 4,
  "nbformat_minor": 0
}